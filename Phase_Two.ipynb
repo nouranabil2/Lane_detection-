{
 "cells": [
  {
   "cell_type": "markdown",
   "id": "54e5efa5",
   "metadata": {},
   "source": [
    "### Imports:\n"
   ]
  },
  {
   "cell_type": "code",
   "execution_count": 5,
   "id": "b78df391",
   "metadata": {},
   "outputs": [],
   "source": [
    "import numpy as np\n",
    "import cv2\n",
    "from skimage.feature import hog\n",
    "import matplotlib.pyplot as plt\n",
    "import joblib\n",
    "import matplotlib.image as mpimg\n",
    "import pandas as pd\n",
    "import glob\n",
    "from sklearn.preprocessing import StandardScaler\n",
    "from skimage.io import imread\n",
    "from sklearn.neural_network import MLPClassifier\n",
    "from sklearn.svm import LinearSVC\n",
    "from sklearn.model_selection import train_test_split\n",
    "%matplotlib inline"
   ]
  },
  {
   "cell_type": "code",
   "execution_count": 6,
   "id": "0d93029c",
   "metadata": {},
   "outputs": [],
   "source": [
    "### HOG feature extraction:"
   ]
  },
  {
   "cell_type": "code",
   "execution_count": 7,
   "id": "75354151",
   "metadata": {},
   "outputs": [],
   "source": [
    "def extract_features(imgs, cspace='RGB', size = (64,64)):\n",
    "    features = []\n",
    "    for filename in imgs:\n",
    "        image = imread(filename)\n",
    "        if size != (64,64):\n",
    "            image = cv2.resize(image, size)\n",
    "        features.append(\n",
    "            np.ravel(\n",
    "                cv2.HOGDescriptor((64,64), (16,16), (8,8), (8,8), 9) \\\n",
    "                    .compute(get_feature_space(image, cspace))\n",
    "            )\n",
    "        )\n",
    "    return features"
   ]
  },
  {
   "cell_type": "code",
   "execution_count": 8,
   "id": "949f72e0",
   "metadata": {},
   "outputs": [],
   "source": [
    "def get_feature_space(img, cspace):\n",
    "    if cspace != 'RGB':\n",
    "        if cspace == 'HLS':\n",
    "            features = cv2.cvtColor(img, cv2.COLOR_RGB2HLS)\n",
    "        elif cspace == 'YCrCb':\n",
    "            features = cv2.cvtColor(img, cv2.COLOR_RGB2YCrCb)\n",
    "        elif cspace == 'HSV':\n",
    "            features = cv2.cvtColor(img, cv2.COLOR_RGB2HSV)\n",
    "        elif cspace == 'LUV':\n",
    "            features = cv2.cvtColor(img, cv2.COLOR_RGB2LUV)\n",
    "        elif cspace == 'YUV':\n",
    "            features = cv2.cvtColor(img, cv2.COLOR_RGB2YUV)\n",
    "        elif cspace == 'Lab':\n",
    "            features = cv2.cvtColor(img, cv2.COLOR_RGB2Lab)\n",
    "        return features\n",
    "def get_hog_features(img, cspace):\n",
    "    return np.ravel(\n",
    "        cv2.HOGDescriptor((64,64), (16,16), (8,8), (8,8), 9) \\\n",
    "            .compute(get_feature_space(img, cspace))\n",
    "    )"
   ]
  },
  {
   "cell_type": "code",
   "execution_count": null,
   "id": "8a322fcc",
   "metadata": {},
   "outputs": [],
   "source": [
    "\n",
    "vehicles = glob.glob('Data/vehicles/*/*.png')\n",
    "non_vehicles = glob.glob('Data/non-vehicles/*/*.png')\n",
    "vehicle_features = extract_features(vehicles, cspace='YUV')\n",
    "non_vehicle_features = extract_features(non_vehicles, cspace='YUV')\n",
    "\n",
    "def plot_features(vehicle_features, non_vehicle_features):\n",
    "    vehicle_features[0].shape\n",
    "    if len(vehicle_features) > 0:\n",
    "        X = np.vstack((vehicle_features, non_vehicle_features)).astype(np.float64) \n",
    "        X_scaler = StandardScaler().fit(X)\n",
    "        scaled_X = X_scaler.transform(X)\n",
    "        vehicle_ind = np.random.randint(0, len(vehicles))\n",
    "        fig = plt.figure(figsize=(12,4))\n",
    "        plt.subplot(131)\n",
    "        plt.imshow(mpimg.imread(vehicles[vehicle_ind]))\n",
    "        plt.title('original image')\n",
    "        plt.subplot(132)\n",
    "        plt.plot(scaled_X[vehicle_ind])\n",
    "        plt.title('scaled features')\n",
    "        fig.tight_layout()\n",
    "    return scaled_X, X_scaler\n",
    "        \n",
    "scaled_X, X_scaler = plot_features(vehicle_features, non_vehicle_features)  "
   ]
  },
  {
   "cell_type": "code",
   "execution_count": null,
   "id": "0f150ce7",
   "metadata": {},
   "outputs": [],
   "source": [
    "### splitting dataset"
   ]
  },
  {
   "cell_type": "code",
   "execution_count": null,
   "id": "ee49743d",
   "metadata": {},
   "outputs": [],
   "source": [
    "#horizontal stack ones for cars and otherwise zero\n",
    "labels = np.hstack((np.ones(len(vehicle_features)), np.zeros(len(non_vehicle_features))))\n",
    "#20% test images \n",
    "X_train, X_test, y_train, y_test = train_test_split(\n",
    "    scaled_X, labels, test_size=0.2, random_state=4000)"
   ]
  },
  {
   "cell_type": "code",
   "execution_count": 3,
   "id": "0641dc65",
   "metadata": {},
   "outputs": [],
   "source": [
    "##training model with MLP\n"
   ]
  },
  {
   "cell_type": "code",
   "execution_count": 4,
   "id": "801fe312",
   "metadata": {},
   "outputs": [
    {
     "ename": "NameError",
     "evalue": "name 'MLPClassifier' is not defined",
     "output_type": "error",
     "traceback": [
      "\u001b[1;31m---------------------------------------------------------------------------\u001b[0m",
      "\u001b[1;31mNameError\u001b[0m                                 Traceback (most recent call last)",
      "\u001b[1;32m<ipython-input-4-f8cd734e8994>\u001b[0m in \u001b[0;36m<module>\u001b[1;34m\u001b[0m\n\u001b[0;32m      1\u001b[0m \u001b[1;31m#Multi-layer Perceptron classifier model\u001b[0m\u001b[1;33m\u001b[0m\u001b[1;33m\u001b[0m\u001b[1;33m\u001b[0m\u001b[0m\n\u001b[0;32m      2\u001b[0m \u001b[1;33m\u001b[0m\u001b[0m\n\u001b[1;32m----> 3\u001b[1;33m \u001b[0mmlp\u001b[0m \u001b[1;33m=\u001b[0m \u001b[0mMLPClassifier\u001b[0m\u001b[1;33m(\u001b[0m\u001b[0mrandom_state\u001b[0m\u001b[1;33m=\u001b[0m\u001b[1;36m999\u001b[0m\u001b[1;33m)\u001b[0m\u001b[1;33m\u001b[0m\u001b[1;33m\u001b[0m\u001b[0m\n\u001b[0m\u001b[0;32m      4\u001b[0m \u001b[0mmlp\u001b[0m\u001b[1;33m.\u001b[0m\u001b[0mfit\u001b[0m\u001b[1;33m(\u001b[0m\u001b[0mX_train\u001b[0m\u001b[1;33m,\u001b[0m \u001b[0my_train\u001b[0m\u001b[1;33m)\u001b[0m\u001b[1;33m\u001b[0m\u001b[1;33m\u001b[0m\u001b[0m\n\u001b[0;32m      5\u001b[0m \u001b[0mprint\u001b[0m\u001b[1;33m(\u001b[0m\u001b[1;34m'MLP results'\u001b[0m\u001b[1;33m)\u001b[0m\u001b[1;33m\u001b[0m\u001b[1;33m\u001b[0m\u001b[0m\n",
      "\u001b[1;31mNameError\u001b[0m: name 'MLPClassifier' is not defined"
     ]
    }
   ],
   "source": [
    "#Multi-layer Perceptron classifier model\n",
    "\n",
    "mlp = MLPClassifier(random_state=999)\n",
    "mlp.fit(X_train, y_train)\n",
    "print('MLP results')\n",
    "print('accuracy on training data: ', mlp.score(X_train, y_train))\n",
    "print('accuracy on test data: ', mlp.score(X_test, y_test))\n",
    "prediction = mlp.predict(X_test[0].reshape(1, -1))"
   ]
  },
  {
   "cell_type": "code",
   "execution_count": null,
   "id": "239a4474",
   "metadata": {},
   "outputs": [],
   "source": [
    "# saving trained data \n",
    "joblib.dump(mlp, 'mlp1.pkl')\n",
    "joblib.dump(X_scaler, 'scaler1.pkl')\n"
   ]
  },
  {
   "cell_type": "code",
   "execution_count": null,
   "id": "a8ad0fa0",
   "metadata": {},
   "outputs": [],
   "source": [
    "# loading trained data file \n",
    "mlp = joblib.load('mlp1.pkl')\n",
    "X_scaler = joblib.load('scaler1.pkl')"
   ]
  },
  {
   "cell_type": "code",
   "execution_count": null,
   "id": "c1f046ec",
   "metadata": {},
   "outputs": [],
   "source": []
  }
 ],
 "metadata": {
  "kernelspec": {
   "display_name": "Python 3",
   "language": "python",
   "name": "python3"
  },
  "language_info": {
   "codemirror_mode": {
    "name": "ipython",
    "version": 3
   },
   "file_extension": ".py",
   "mimetype": "text/x-python",
   "name": "python",
   "nbconvert_exporter": "python",
   "pygments_lexer": "ipython3",
   "version": "3.8.8"
  }
 },
 "nbformat": 4,
 "nbformat_minor": 5
}
