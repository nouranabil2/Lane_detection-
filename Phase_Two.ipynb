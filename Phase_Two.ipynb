{
 "cells": [
  {
   "cell_type": "markdown",
   "id": "40bb65f3",
   "metadata": {},
   "source": [
    "### Imports:\n"
   ]
  },
  {
   "cell_type": "code",
   "execution_count": 1,
   "id": "12c4ce81",
   "metadata": {},
   "outputs": [
    {
     "ename": "ModuleNotFoundError",
     "evalue": "No module named 'pandas'",
     "output_type": "error",
     "traceback": [
      "\u001b[1;31m---------------------------------------------------------------------------\u001b[0m",
      "\u001b[1;31mModuleNotFoundError\u001b[0m                       Traceback (most recent call last)",
      "Input \u001b[1;32mIn [1]\u001b[0m, in \u001b[0;36m<cell line: 7>\u001b[1;34m()\u001b[0m\n\u001b[0;32m      5\u001b[0m \u001b[38;5;28;01mimport\u001b[39;00m \u001b[38;5;21;01mjoblib\u001b[39;00m\n\u001b[0;32m      6\u001b[0m \u001b[38;5;28;01mimport\u001b[39;00m \u001b[38;5;21;01mmatplotlib\u001b[39;00m\u001b[38;5;21;01m.\u001b[39;00m\u001b[38;5;21;01mimage\u001b[39;00m \u001b[38;5;28;01mas\u001b[39;00m \u001b[38;5;21;01mmpimg\u001b[39;00m\n\u001b[1;32m----> 7\u001b[0m \u001b[38;5;28;01mimport\u001b[39;00m \u001b[38;5;21;01mpandas\u001b[39;00m \u001b[38;5;28;01mas\u001b[39;00m \u001b[38;5;21;01mpd\u001b[39;00m\n\u001b[0;32m      8\u001b[0m \u001b[38;5;28;01mimport\u001b[39;00m \u001b[38;5;21;01mglob\u001b[39;00m\n\u001b[0;32m      9\u001b[0m \u001b[38;5;28;01mfrom\u001b[39;00m \u001b[38;5;21;01msklearn\u001b[39;00m\u001b[38;5;21;01m.\u001b[39;00m\u001b[38;5;21;01mpreprocessing\u001b[39;00m \u001b[38;5;28;01mimport\u001b[39;00m StandardScaler\n",
      "\u001b[1;31mModuleNotFoundError\u001b[0m: No module named 'pandas'"
     ]
    }
   ],
   "source": [
    "import numpy as np\n",
    "import cv2\n",
    "from skimage.feature import hog\n",
    "import matplotlib.pyplot as plt\n",
    "import joblib\n",
    "import matplotlib.image as mpimg\n",
    "import pandas as pd\n",
    "import glob\n",
    "from sklearn.preprocessing import StandardScaler\n",
    "from skimage.io import imread\n",
    "from sklearn.neural_network import MLPClassifier\n",
    "from sklearn.svm import LinearSVC\n",
    "from sklearn.model_selection import train_test_split\n",
    "%matplotlib inline"
   ]
  },
  {
   "cell_type": "code",
   "execution_count": null,
   "id": "33c0e06c",
   "metadata": {},
   "outputs": [],
   "source": [
    "### Preparing dataset and extrating HOG features:"
   ]
  },
  {
   "cell_type": "code",
   "execution_count": null,
   "id": "f38551d4",
   "metadata": {},
   "outputs": [],
   "source": [
    "def extract_features(imgs, cspace='RGB', size = (64,64)):\n",
    "    features = []\n",
    "    for filename in imgs:\n",
    "        image = imread(filename)\n",
    "        if size != (64,64):\n",
    "            image = cv2.resize(image, size)\n",
    "        features.append(\n",
    "            np.ravel(\n",
    "                cv2.HOGDescriptor((64,64), (16,16), (8,8), (8,8), 9) \\\n",
    "                    .compute(get_feature_space(image, cspace))\n",
    "            )\n",
    "        )\n",
    "    return features"
   ]
  },
  {
   "cell_type": "code",
   "execution_count": null,
   "id": "1cf500f5",
   "metadata": {},
   "outputs": [],
   "source": [
    "def get_feature_space(img, cspace):\n",
    "    if cspace != 'RGB':\n",
    "        if cspace == 'HLS':\n",
    "            features = cv2.cvtColor(img, cv2.COLOR_RGB2HLS)\n",
    "        elif cspace == 'YCrCb':\n",
    "            features = cv2.cvtColor(img, cv2.COLOR_RGB2YCrCb)\n",
    "        elif cspace == 'HSV':\n",
    "            features = cv2.cvtColor(img, cv2.COLOR_RGB2HSV)\n",
    "        elif cspace == 'LUV':\n",
    "            features = cv2.cvtColor(img, cv2.COLOR_RGB2LUV)\n",
    "        elif cspace == 'YUV':\n",
    "            features = cv2.cvtColor(img, cv2.COLOR_RGB2YUV)\n",
    "        elif cspace == 'Lab':\n",
    "            features = cv2.cvtColor(img, cv2.COLOR_RGB2Lab)\n",
    "        return features\n",
    "def get_hog_features(img, cspace):\n",
    "    return np.ravel(\n",
    "        cv2.HOGDescriptor((64,64), (16,16), (8,8), (8,8), 9) \\\n",
    "            .compute(get_feature_space(img, cspace))\n",
    "    )"
   ]
  },
  {
   "cell_type": "code",
   "execution_count": null,
   "id": "37f805b6",
   "metadata": {},
   "outputs": [],
   "source": [
    "#cv2.HOGDescriptor((64,64), (8,8), (8,8), (8,8), 9).compute(IMG).shape\n",
    "vehicles = glob.glob('Data/vehicles/*/*.png')\n",
    "non_vehicles = glob.glob('Data/non-vehicles/*/*.png')\n",
    "vehicle_features = extract_features(vehicles, cspace='YUV')\n",
    "non_vehicle_features = extract_features(non_vehicles, cspace='YUV')\n",
    "\n",
    "def plot_features(vehicle_features, non_vehicle_features):\n",
    "    vehicle_features[0].shape\n",
    "    if len(vehicle_features) > 0:\n",
    "        X = np.vstack((vehicle_features, non_vehicle_features)).astype(np.float64) \n",
    "        X_scaler = StandardScaler().fit(X)\n",
    "        scaled_X = X_scaler.transform(X)\n",
    "        vehicle_ind = np.random.randint(0, len(vehicles))\n",
    "        fig = plt.figure(figsize=(12,4))\n",
    "        plt.subplot(131)\n",
    "        plt.imshow(mpimg.imread(vehicles[vehicle_ind]))\n",
    "        plt.title('original image')\n",
    "        plt.subplot(132)\n",
    "        plt.plot(scaled_X[vehicle_ind])\n",
    "        plt.title('scaled features')\n",
    "        fig.tight_layout()\n",
    "    return scaled_X, X_scaler\n",
    "        \n",
    "scaled_X, X_scaler = plot_features(vehicle_features, non_vehicle_features)  "
   ]
  }
 ],
 "metadata": {
  "kernelspec": {
   "display_name": "Python 3 (ipykernel)",
   "language": "python",
   "name": "python3"
  },
  "language_info": {
   "codemirror_mode": {
    "name": "ipython",
    "version": 3
   },
   "file_extension": ".py",
   "mimetype": "text/x-python",
   "name": "python",
   "nbconvert_exporter": "python",
   "pygments_lexer": "ipython3",
   "version": "3.9.12"
  }
 },
 "nbformat": 4,
 "nbformat_minor": 5
}
